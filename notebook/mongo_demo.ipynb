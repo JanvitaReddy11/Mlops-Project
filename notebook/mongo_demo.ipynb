{
 "cells": [
  {
   "cell_type": "code",
   "execution_count": 3,
   "metadata": {},
   "outputs": [
    {
     "data": {
      "text/html": [
       "<div>\n",
       "<style scoped>\n",
       "    .dataframe tbody tr th:only-of-type {\n",
       "        vertical-align: middle;\n",
       "    }\n",
       "\n",
       "    .dataframe tbody tr th {\n",
       "        vertical-align: top;\n",
       "    }\n",
       "\n",
       "    .dataframe thead th {\n",
       "        text-align: right;\n",
       "    }\n",
       "</style>\n",
       "<table border=\"1\" class=\"dataframe\">\n",
       "  <thead>\n",
       "    <tr style=\"text-align: right;\">\n",
       "      <th></th>\n",
       "      <th>Pregnancies</th>\n",
       "      <th>Glucose</th>\n",
       "      <th>BloodPressure</th>\n",
       "      <th>SkinThickness</th>\n",
       "      <th>Insulin</th>\n",
       "      <th>BMI</th>\n",
       "      <th>DiabetesPedigreeFunction</th>\n",
       "      <th>Age</th>\n",
       "      <th>Outcome</th>\n",
       "    </tr>\n",
       "  </thead>\n",
       "  <tbody>\n",
       "    <tr>\n",
       "      <th>0</th>\n",
       "      <td>6</td>\n",
       "      <td>148</td>\n",
       "      <td>72</td>\n",
       "      <td>35</td>\n",
       "      <td>0</td>\n",
       "      <td>33.6</td>\n",
       "      <td>0.627</td>\n",
       "      <td>50</td>\n",
       "      <td>1</td>\n",
       "    </tr>\n",
       "    <tr>\n",
       "      <th>1</th>\n",
       "      <td>1</td>\n",
       "      <td>85</td>\n",
       "      <td>66</td>\n",
       "      <td>29</td>\n",
       "      <td>0</td>\n",
       "      <td>26.6</td>\n",
       "      <td>0.351</td>\n",
       "      <td>31</td>\n",
       "      <td>0</td>\n",
       "    </tr>\n",
       "    <tr>\n",
       "      <th>2</th>\n",
       "      <td>8</td>\n",
       "      <td>183</td>\n",
       "      <td>64</td>\n",
       "      <td>0</td>\n",
       "      <td>0</td>\n",
       "      <td>23.3</td>\n",
       "      <td>0.672</td>\n",
       "      <td>32</td>\n",
       "      <td>1</td>\n",
       "    </tr>\n",
       "    <tr>\n",
       "      <th>3</th>\n",
       "      <td>1</td>\n",
       "      <td>89</td>\n",
       "      <td>66</td>\n",
       "      <td>23</td>\n",
       "      <td>94</td>\n",
       "      <td>28.1</td>\n",
       "      <td>0.167</td>\n",
       "      <td>21</td>\n",
       "      <td>0</td>\n",
       "    </tr>\n",
       "    <tr>\n",
       "      <th>4</th>\n",
       "      <td>0</td>\n",
       "      <td>137</td>\n",
       "      <td>40</td>\n",
       "      <td>35</td>\n",
       "      <td>168</td>\n",
       "      <td>43.1</td>\n",
       "      <td>2.288</td>\n",
       "      <td>33</td>\n",
       "      <td>1</td>\n",
       "    </tr>\n",
       "  </tbody>\n",
       "</table>\n",
       "</div>"
      ],
      "text/plain": [
       "   Pregnancies  Glucose  BloodPressure  SkinThickness  Insulin   BMI  \\\n",
       "0            6      148             72             35        0  33.6   \n",
       "1            1       85             66             29        0  26.6   \n",
       "2            8      183             64              0        0  23.3   \n",
       "3            1       89             66             23       94  28.1   \n",
       "4            0      137             40             35      168  43.1   \n",
       "\n",
       "   DiabetesPedigreeFunction  Age  Outcome  \n",
       "0                     0.627   50        1  \n",
       "1                     0.351   31        0  \n",
       "2                     0.672   32        1  \n",
       "3                     0.167   21        0  \n",
       "4                     2.288   33        1  "
      ]
     },
     "execution_count": 3,
     "metadata": {},
     "output_type": "execute_result"
    }
   ],
   "source": [
    "import pandas as pd\n",
    "import pymongo\n",
    "\n",
    "df = pd.read_csv('diabetes.csv')\n",
    "df.head()"
   ]
  },
  {
   "cell_type": "code",
   "execution_count": 5,
   "metadata": {},
   "outputs": [],
   "source": [
    "data = df.to_dict(orient = 'records')\n"
   ]
  },
  {
   "cell_type": "code",
   "execution_count": null,
   "metadata": {},
   "outputs": [],
   "source": [
    "\n",
    "from pymongo import MongoClient\n",
    "\n",
    "data_basename = \"Project\"\n",
    "collection_name =  \"Mlops-Proj\"\n",
    "client = MongoClient(connection_uri)\n",
    "db = client[data_basename]\n",
    "collection = db[collection_name]\n",
    "insert_result = collection.insert_many(data)\n",
    "\n"
   ]
  },
  {
   "cell_type": "code",
   "execution_count": 9,
   "metadata": {},
   "outputs": [],
   "source": [
    "df = pd.DataFrame(list(collection.find()))\n"
   ]
  },
  {
   "cell_type": "code",
   "execution_count": 8,
   "metadata": {},
   "outputs": [
    {
     "data": {
      "text/plain": [
       "(768, 9)"
      ]
     },
     "execution_count": 8,
     "metadata": {},
     "output_type": "execute_result"
    }
   ],
   "source": [
    "df.shape"
   ]
  },
  {
   "cell_type": "code",
   "execution_count": 10,
   "metadata": {},
   "outputs": [
    {
     "data": {
      "text/plain": [
       "pandas.core.frame.DataFrame"
      ]
     },
     "execution_count": 10,
     "metadata": {},
     "output_type": "execute_result"
    }
   ],
   "source": [
    "type(df)"
   ]
  },
  {
   "cell_type": "code",
   "execution_count": 5,
   "metadata": {},
   "outputs": [
    {
     "data": {
      "text/plain": [
       "InsertManyResult([ObjectId('67e06dbcb56438ac8eefc49b'), ObjectId('67e06dbcb56438ac8eefc49c'), ObjectId('67e06dbcb56438ac8eefc49d'), ObjectId('67e06dbcb56438ac8eefc49e'), ObjectId('67e06dbcb56438ac8eefc49f'), ObjectId('67e06dbcb56438ac8eefc4a0'), ObjectId('67e06dbcb56438ac8eefc4a1'), ObjectId('67e06dbcb56438ac8eefc4a2'), ObjectId('67e06dbcb56438ac8eefc4a3'), ObjectId('67e06dbcb56438ac8eefc4a4'), ObjectId('67e06dbcb56438ac8eefc4a5'), ObjectId('67e06dbcb56438ac8eefc4a6'), ObjectId('67e06dbcb56438ac8eefc4a7'), ObjectId('67e06dbcb56438ac8eefc4a8'), ObjectId('67e06dbcb56438ac8eefc4a9'), ObjectId('67e06dbcb56438ac8eefc4aa'), ObjectId('67e06dbcb56438ac8eefc4ab'), ObjectId('67e06dbcb56438ac8eefc4ac'), ObjectId('67e06dbcb56438ac8eefc4ad'), ObjectId('67e06dbcb56438ac8eefc4ae'), ObjectId('67e06dbcb56438ac8eefc4af'), ObjectId('67e06dbcb56438ac8eefc4b0'), ObjectId('67e06dbcb56438ac8eefc4b1'), ObjectId('67e06dbcb56438ac8eefc4b2'), ObjectId('67e06dbcb56438ac8eefc4b3'), ObjectId('67e06dbcb56438ac8eefc4b4'), ObjectId('67e06dbcb56438ac8eefc4b5'), ObjectId('67e06dbcb56438ac8eefc4b6'), ObjectId('67e06dbcb56438ac8eefc4b7'), ObjectId('67e06dbcb56438ac8eefc4b8'), ObjectId('67e06dbcb56438ac8eefc4b9'), ObjectId('67e06dbcb56438ac8eefc4ba'), ObjectId('67e06dbcb56438ac8eefc4bb'), ObjectId('67e06dbcb56438ac8eefc4bc'), ObjectId('67e06dbcb56438ac8eefc4bd'), ObjectId('67e06dbcb56438ac8eefc4be'), ObjectId('67e06dbcb56438ac8eefc4bf'), ObjectId('67e06dbcb56438ac8eefc4c0'), ObjectId('67e06dbcb56438ac8eefc4c1'), ObjectId('67e06dbcb56438ac8eefc4c2'), ObjectId('67e06dbcb56438ac8eefc4c3'), ObjectId('67e06dbcb56438ac8eefc4c4'), ObjectId('67e06dbcb56438ac8eefc4c5'), ObjectId('67e06dbcb56438ac8eefc4c6'), ObjectId('67e06dbcb56438ac8eefc4c7'), ObjectId('67e06dbcb56438ac8eefc4c8'), ObjectId('67e06dbcb56438ac8eefc4c9'), ObjectId('67e06dbcb56438ac8eefc4ca'), ObjectId('67e06dbcb56438ac8eefc4cb'), ObjectId('67e06dbcb56438ac8eefc4cc'), ObjectId('67e06dbcb56438ac8eefc4cd'), ObjectId('67e06dbcb56438ac8eefc4ce'), ObjectId('67e06dbcb56438ac8eefc4cf'), ObjectId('67e06dbcb56438ac8eefc4d0'), ObjectId('67e06dbcb56438ac8eefc4d1'), ObjectId('67e06dbcb56438ac8eefc4d2'), ObjectId('67e06dbcb56438ac8eefc4d3'), ObjectId('67e06dbcb56438ac8eefc4d4'), ObjectId('67e06dbcb56438ac8eefc4d5'), ObjectId('67e06dbcb56438ac8eefc4d6'), ObjectId('67e06dbcb56438ac8eefc4d7'), ObjectId('67e06dbcb56438ac8eefc4d8'), ObjectId('67e06dbcb56438ac8eefc4d9'), ObjectId('67e06dbcb56438ac8eefc4da'), ObjectId('67e06dbcb56438ac8eefc4db'), ObjectId('67e06dbcb56438ac8eefc4dc'), ObjectId('67e06dbcb56438ac8eefc4dd'), ObjectId('67e06dbcb56438ac8eefc4de'), ObjectId('67e06dbcb56438ac8eefc4df'), ObjectId('67e06dbcb56438ac8eefc4e0'), ObjectId('67e06dbcb56438ac8eefc4e1'), ObjectId('67e06dbcb56438ac8eefc4e2'), ObjectId('67e06dbcb56438ac8eefc4e3'), ObjectId('67e06dbcb56438ac8eefc4e4'), ObjectId('67e06dbcb56438ac8eefc4e5'), ObjectId('67e06dbcb56438ac8eefc4e6'), ObjectId('67e06dbcb56438ac8eefc4e7'), ObjectId('67e06dbcb56438ac8eefc4e8'), ObjectId('67e06dbcb56438ac8eefc4e9'), ObjectId('67e06dbcb56438ac8eefc4ea'), ObjectId('67e06dbcb56438ac8eefc4eb'), ObjectId('67e06dbcb56438ac8eefc4ec'), ObjectId('67e06dbcb56438ac8eefc4ed'), ObjectId('67e06dbcb56438ac8eefc4ee'), ObjectId('67e06dbcb56438ac8eefc4ef'), ObjectId('67e06dbcb56438ac8eefc4f0'), ObjectId('67e06dbcb56438ac8eefc4f1'), ObjectId('67e06dbcb56438ac8eefc4f2'), ObjectId('67e06dbcb56438ac8eefc4f3'), ObjectId('67e06dbcb56438ac8eefc4f4'), ObjectId('67e06dbcb56438ac8eefc4f5'), ObjectId('67e06dbcb56438ac8eefc4f6'), ObjectId('67e06dbcb56438ac8eefc4f7'), ObjectId('67e06dbcb56438ac8eefc4f8'), ObjectId('67e06dbcb56438ac8eefc4f9'), ObjectId('67e06dbcb56438ac8eefc4fa'), ObjectId('67e06dbcb56438ac8eefc4fb'), ObjectId('67e06dbcb56438ac8eefc4fc'), ObjectId('67e06dbcb56438ac8eefc4fd'), ObjectId('67e06dbcb56438ac8eefc4fe'), ObjectId('67e06dbcb56438ac8eefc4ff'), ObjectId('67e06dbcb56438ac8eefc500'), ObjectId('67e06dbcb56438ac8eefc501'), ObjectId('67e06dbcb56438ac8eefc502'), ObjectId('67e06dbcb56438ac8eefc503'), ObjectId('67e06dbcb56438ac8eefc504'), ObjectId('67e06dbcb56438ac8eefc505'), ObjectId('67e06dbcb56438ac8eefc506'), ObjectId('67e06dbcb56438ac8eefc507'), ObjectId('67e06dbcb56438ac8eefc508'), ObjectId('67e06dbcb56438ac8eefc509'), ObjectId('67e06dbcb56438ac8eefc50a'), ObjectId('67e06dbcb56438ac8eefc50b'), ObjectId('67e06dbcb56438ac8eefc50c'), ObjectId('67e06dbcb56438ac8eefc50d'), ObjectId('67e06dbcb56438ac8eefc50e'), ObjectId('67e06dbcb56438ac8eefc50f'), ObjectId('67e06dbcb56438ac8eefc510'), ObjectId('67e06dbcb56438ac8eefc511'), ObjectId('67e06dbcb56438ac8eefc512'), ObjectId('67e06dbcb56438ac8eefc513'), ObjectId('67e06dbcb56438ac8eefc514'), ObjectId('67e06dbcb56438ac8eefc515'), ObjectId('67e06dbcb56438ac8eefc516'), ObjectId('67e06dbcb56438ac8eefc517'), ObjectId('67e06dbcb56438ac8eefc518'), ObjectId('67e06dbcb56438ac8eefc519'), ObjectId('67e06dbcb56438ac8eefc51a'), ObjectId('67e06dbcb56438ac8eefc51b'), ObjectId('67e06dbcb56438ac8eefc51c'), ObjectId('67e06dbcb56438ac8eefc51d'), ObjectId('67e06dbcb56438ac8eefc51e'), ObjectId('67e06dbcb56438ac8eefc51f'), ObjectId('67e06dbcb56438ac8eefc520'), ObjectId('67e06dbcb56438ac8eefc521'), ObjectId('67e06dbcb56438ac8eefc522'), ObjectId('67e06dbcb56438ac8eefc523'), ObjectId('67e06dbcb56438ac8eefc524'), ObjectId('67e06dbcb56438ac8eefc525'), ObjectId('67e06dbcb56438ac8eefc526'), ObjectId('67e06dbcb56438ac8eefc527'), ObjectId('67e06dbcb56438ac8eefc528'), ObjectId('67e06dbcb56438ac8eefc529'), ObjectId('67e06dbcb56438ac8eefc52a'), ObjectId('67e06dbcb56438ac8eefc52b'), ObjectId('67e06dbcb56438ac8eefc52c'), ObjectId('67e06dbcb56438ac8eefc52d'), ObjectId('67e06dbcb56438ac8eefc52e'), ObjectId('67e06dbcb56438ac8eefc52f'), ObjectId('67e06dbcb56438ac8eefc530'), ObjectId('67e06dbcb56438ac8eefc531'), ObjectId('67e06dbcb56438ac8eefc532'), ObjectId('67e06dbcb56438ac8eefc533'), ObjectId('67e06dbcb56438ac8eefc534'), ObjectId('67e06dbcb56438ac8eefc535'), ObjectId('67e06dbcb56438ac8eefc536'), ObjectId('67e06dbcb56438ac8eefc537'), ObjectId('67e06dbcb56438ac8eefc538'), ObjectId('67e06dbcb56438ac8eefc539'), ObjectId('67e06dbcb56438ac8eefc53a'), ObjectId('67e06dbcb56438ac8eefc53b'), ObjectId('67e06dbcb56438ac8eefc53c'), ObjectId('67e06dbcb56438ac8eefc53d'), ObjectId('67e06dbcb56438ac8eefc53e'), ObjectId('67e06dbcb56438ac8eefc53f'), ObjectId('67e06dbcb56438ac8eefc540'), ObjectId('67e06dbcb56438ac8eefc541'), ObjectId('67e06dbcb56438ac8eefc542'), ObjectId('67e06dbcb56438ac8eefc543'), ObjectId('67e06dbcb56438ac8eefc544'), ObjectId('67e06dbcb56438ac8eefc545'), ObjectId('67e06dbcb56438ac8eefc546'), ObjectId('67e06dbcb56438ac8eefc547'), ObjectId('67e06dbcb56438ac8eefc548'), ObjectId('67e06dbcb56438ac8eefc549'), ObjectId('67e06dbcb56438ac8eefc54a'), ObjectId('67e06dbcb56438ac8eefc54b'), ObjectId('67e06dbcb56438ac8eefc54c'), ObjectId('67e06dbcb56438ac8eefc54d'), ObjectId('67e06dbcb56438ac8eefc54e'), ObjectId('67e06dbcb56438ac8eefc54f'), ObjectId('67e06dbcb56438ac8eefc550'), ObjectId('67e06dbcb56438ac8eefc551'), ObjectId('67e06dbcb56438ac8eefc552'), ObjectId('67e06dbcb56438ac8eefc553'), ObjectId('67e06dbcb56438ac8eefc554'), ObjectId('67e06dbcb56438ac8eefc555'), ObjectId('67e06dbcb56438ac8eefc556'), ObjectId('67e06dbcb56438ac8eefc557'), ObjectId('67e06dbcb56438ac8eefc558'), ObjectId('67e06dbcb56438ac8eefc559'), ObjectId('67e06dbcb56438ac8eefc55a'), ObjectId('67e06dbcb56438ac8eefc55b'), ObjectId('67e06dbcb56438ac8eefc55c'), ObjectId('67e06dbcb56438ac8eefc55d'), ObjectId('67e06dbcb56438ac8eefc55e'), ObjectId('67e06dbcb56438ac8eefc55f'), ObjectId('67e06dbcb56438ac8eefc560'), ObjectId('67e06dbcb56438ac8eefc561'), ObjectId('67e06dbcb56438ac8eefc562'), ObjectId('67e06dbcb56438ac8eefc563'), ObjectId('67e06dbcb56438ac8eefc564'), ObjectId('67e06dbcb56438ac8eefc565'), ObjectId('67e06dbcb56438ac8eefc566'), ObjectId('67e06dbcb56438ac8eefc567'), ObjectId('67e06dbcb56438ac8eefc568'), ObjectId('67e06dbcb56438ac8eefc569'), ObjectId('67e06dbcb56438ac8eefc56a'), ObjectId('67e06dbcb56438ac8eefc56b'), ObjectId('67e06dbcb56438ac8eefc56c'), ObjectId('67e06dbcb56438ac8eefc56d'), ObjectId('67e06dbcb56438ac8eefc56e'), ObjectId('67e06dbcb56438ac8eefc56f'), ObjectId('67e06dbcb56438ac8eefc570'), ObjectId('67e06dbcb56438ac8eefc571'), ObjectId('67e06dbcb56438ac8eefc572'), ObjectId('67e06dbcb56438ac8eefc573'), ObjectId('67e06dbcb56438ac8eefc574'), ObjectId('67e06dbcb56438ac8eefc575'), ObjectId('67e06dbcb56438ac8eefc576'), ObjectId('67e06dbcb56438ac8eefc577'), ObjectId('67e06dbcb56438ac8eefc578'), ObjectId('67e06dbcb56438ac8eefc579'), ObjectId('67e06dbcb56438ac8eefc57a'), ObjectId('67e06dbcb56438ac8eefc57b'), ObjectId('67e06dbcb56438ac8eefc57c'), ObjectId('67e06dbcb56438ac8eefc57d'), ObjectId('67e06dbcb56438ac8eefc57e'), ObjectId('67e06dbcb56438ac8eefc57f'), ObjectId('67e06dbcb56438ac8eefc580'), ObjectId('67e06dbcb56438ac8eefc581'), ObjectId('67e06dbcb56438ac8eefc582'), ObjectId('67e06dbcb56438ac8eefc583'), ObjectId('67e06dbcb56438ac8eefc584'), ObjectId('67e06dbcb56438ac8eefc585'), ObjectId('67e06dbcb56438ac8eefc586'), ObjectId('67e06dbcb56438ac8eefc587'), ObjectId('67e06dbcb56438ac8eefc588'), ObjectId('67e06dbcb56438ac8eefc589'), ObjectId('67e06dbcb56438ac8eefc58a'), ObjectId('67e06dbcb56438ac8eefc58b'), ObjectId('67e06dbcb56438ac8eefc58c'), ObjectId('67e06dbcb56438ac8eefc58d'), ObjectId('67e06dbcb56438ac8eefc58e'), ObjectId('67e06dbcb56438ac8eefc58f'), ObjectId('67e06dbcb56438ac8eefc590'), ObjectId('67e06dbcb56438ac8eefc591'), ObjectId('67e06dbcb56438ac8eefc592'), ObjectId('67e06dbcb56438ac8eefc593'), ObjectId('67e06dbcb56438ac8eefc594'), ObjectId('67e06dbcb56438ac8eefc595'), ObjectId('67e06dbcb56438ac8eefc596'), ObjectId('67e06dbcb56438ac8eefc597'), ObjectId('67e06dbcb56438ac8eefc598'), ObjectId('67e06dbcb56438ac8eefc599'), ObjectId('67e06dbcb56438ac8eefc59a'), ObjectId('67e06dbcb56438ac8eefc59b'), ObjectId('67e06dbcb56438ac8eefc59c'), ObjectId('67e06dbcb56438ac8eefc59d'), ObjectId('67e06dbcb56438ac8eefc59e'), ObjectId('67e06dbcb56438ac8eefc59f'), ObjectId('67e06dbcb56438ac8eefc5a0'), ObjectId('67e06dbcb56438ac8eefc5a1'), ObjectId('67e06dbcb56438ac8eefc5a2'), ObjectId('67e06dbcb56438ac8eefc5a3'), ObjectId('67e06dbcb56438ac8eefc5a4'), ObjectId('67e06dbcb56438ac8eefc5a5'), ObjectId('67e06dbcb56438ac8eefc5a6'), ObjectId('67e06dbcb56438ac8eefc5a7'), ObjectId('67e06dbcb56438ac8eefc5a8'), ObjectId('67e06dbcb56438ac8eefc5a9'), ObjectId('67e06dbcb56438ac8eefc5aa'), ObjectId('67e06dbcb56438ac8eefc5ab'), ObjectId('67e06dbcb56438ac8eefc5ac'), ObjectId('67e06dbcb56438ac8eefc5ad'), ObjectId('67e06dbcb56438ac8eefc5ae'), ObjectId('67e06dbcb56438ac8eefc5af'), ObjectId('67e06dbcb56438ac8eefc5b0'), ObjectId('67e06dbcb56438ac8eefc5b1'), ObjectId('67e06dbcb56438ac8eefc5b2'), ObjectId('67e06dbcb56438ac8eefc5b3'), ObjectId('67e06dbcb56438ac8eefc5b4'), ObjectId('67e06dbcb56438ac8eefc5b5'), ObjectId('67e06dbcb56438ac8eefc5b6'), ObjectId('67e06dbcb56438ac8eefc5b7'), ObjectId('67e06dbcb56438ac8eefc5b8'), ObjectId('67e06dbcb56438ac8eefc5b9'), ObjectId('67e06dbcb56438ac8eefc5ba'), ObjectId('67e06dbcb56438ac8eefc5bb'), ObjectId('67e06dbcb56438ac8eefc5bc'), ObjectId('67e06dbcb56438ac8eefc5bd'), ObjectId('67e06dbcb56438ac8eefc5be'), ObjectId('67e06dbcb56438ac8eefc5bf'), ObjectId('67e06dbcb56438ac8eefc5c0'), ObjectId('67e06dbcb56438ac8eefc5c1'), ObjectId('67e06dbcb56438ac8eefc5c2'), ObjectId('67e06dbcb56438ac8eefc5c3'), ObjectId('67e06dbcb56438ac8eefc5c4'), ObjectId('67e06dbcb56438ac8eefc5c5'), ObjectId('67e06dbcb56438ac8eefc5c6'), ObjectId('67e06dbcb56438ac8eefc5c7'), ObjectId('67e06dbcb56438ac8eefc5c8'), ObjectId('67e06dbcb56438ac8eefc5c9'), ObjectId('67e06dbcb56438ac8eefc5ca'), ObjectId('67e06dbcb56438ac8eefc5cb'), ObjectId('67e06dbcb56438ac8eefc5cc'), ObjectId('67e06dbcb56438ac8eefc5cd'), ObjectId('67e06dbcb56438ac8eefc5ce'), ObjectId('67e06dbcb56438ac8eefc5cf'), ObjectId('67e06dbcb56438ac8eefc5d0'), ObjectId('67e06dbcb56438ac8eefc5d1'), ObjectId('67e06dbcb56438ac8eefc5d2'), ObjectId('67e06dbcb56438ac8eefc5d3'), ObjectId('67e06dbcb56438ac8eefc5d4'), ObjectId('67e06dbcb56438ac8eefc5d5'), ObjectId('67e06dbcb56438ac8eefc5d6'), ObjectId('67e06dbcb56438ac8eefc5d7'), ObjectId('67e06dbcb56438ac8eefc5d8'), ObjectId('67e06dbcb56438ac8eefc5d9'), ObjectId('67e06dbcb56438ac8eefc5da'), ObjectId('67e06dbcb56438ac8eefc5db'), ObjectId('67e06dbcb56438ac8eefc5dc'), ObjectId('67e06dbcb56438ac8eefc5dd'), ObjectId('67e06dbcb56438ac8eefc5de'), ObjectId('67e06dbcb56438ac8eefc5df'), ObjectId('67e06dbcb56438ac8eefc5e0'), ObjectId('67e06dbcb56438ac8eefc5e1'), ObjectId('67e06dbcb56438ac8eefc5e2'), ObjectId('67e06dbcb56438ac8eefc5e3'), ObjectId('67e06dbcb56438ac8eefc5e4'), ObjectId('67e06dbcb56438ac8eefc5e5'), ObjectId('67e06dbcb56438ac8eefc5e6'), ObjectId('67e06dbcb56438ac8eefc5e7'), ObjectId('67e06dbcb56438ac8eefc5e8'), ObjectId('67e06dbcb56438ac8eefc5e9'), ObjectId('67e06dbcb56438ac8eefc5ea'), ObjectId('67e06dbcb56438ac8eefc5eb'), ObjectId('67e06dbcb56438ac8eefc5ec'), ObjectId('67e06dbcb56438ac8eefc5ed'), ObjectId('67e06dbcb56438ac8eefc5ee'), ObjectId('67e06dbcb56438ac8eefc5ef'), ObjectId('67e06dbcb56438ac8eefc5f0'), ObjectId('67e06dbcb56438ac8eefc5f1'), ObjectId('67e06dbcb56438ac8eefc5f2'), ObjectId('67e06dbcb56438ac8eefc5f3'), ObjectId('67e06dbcb56438ac8eefc5f4'), ObjectId('67e06dbcb56438ac8eefc5f5'), ObjectId('67e06dbcb56438ac8eefc5f6'), ObjectId('67e06dbcb56438ac8eefc5f7'), ObjectId('67e06dbcb56438ac8eefc5f8'), ObjectId('67e06dbcb56438ac8eefc5f9'), ObjectId('67e06dbcb56438ac8eefc5fa'), ObjectId('67e06dbcb56438ac8eefc5fb'), ObjectId('67e06dbcb56438ac8eefc5fc'), ObjectId('67e06dbcb56438ac8eefc5fd'), ObjectId('67e06dbcb56438ac8eefc5fe'), ObjectId('67e06dbcb56438ac8eefc5ff'), ObjectId('67e06dbcb56438ac8eefc600'), ObjectId('67e06dbcb56438ac8eefc601'), ObjectId('67e06dbcb56438ac8eefc602'), ObjectId('67e06dbcb56438ac8eefc603'), ObjectId('67e06dbcb56438ac8eefc604'), ObjectId('67e06dbcb56438ac8eefc605'), ObjectId('67e06dbcb56438ac8eefc606'), ObjectId('67e06dbcb56438ac8eefc607'), ObjectId('67e06dbcb56438ac8eefc608'), ObjectId('67e06dbcb56438ac8eefc609'), ObjectId('67e06dbcb56438ac8eefc60a'), ObjectId('67e06dbcb56438ac8eefc60b'), ObjectId('67e06dbcb56438ac8eefc60c'), ObjectId('67e06dbcb56438ac8eefc60d'), ObjectId('67e06dbcb56438ac8eefc60e'), ObjectId('67e06dbcb56438ac8eefc60f'), ObjectId('67e06dbcb56438ac8eefc610'), ObjectId('67e06dbcb56438ac8eefc611'), ObjectId('67e06dbcb56438ac8eefc612'), ObjectId('67e06dbcb56438ac8eefc613'), ObjectId('67e06dbcb56438ac8eefc614'), ObjectId('67e06dbcb56438ac8eefc615'), ObjectId('67e06dbcb56438ac8eefc616'), ObjectId('67e06dbcb56438ac8eefc617'), ObjectId('67e06dbcb56438ac8eefc618'), ObjectId('67e06dbcb56438ac8eefc619'), ObjectId('67e06dbcb56438ac8eefc61a'), ObjectId('67e06dbcb56438ac8eefc61b'), ObjectId('67e06dbcb56438ac8eefc61c'), ObjectId('67e06dbcb56438ac8eefc61d'), ObjectId('67e06dbcb56438ac8eefc61e'), ObjectId('67e06dbcb56438ac8eefc61f'), ObjectId('67e06dbcb56438ac8eefc620'), ObjectId('67e06dbcb56438ac8eefc621'), ObjectId('67e06dbcb56438ac8eefc622'), ObjectId('67e06dbcb56438ac8eefc623'), ObjectId('67e06dbcb56438ac8eefc624'), ObjectId('67e06dbcb56438ac8eefc625'), ObjectId('67e06dbcb56438ac8eefc626'), ObjectId('67e06dbcb56438ac8eefc627'), ObjectId('67e06dbcb56438ac8eefc628'), ObjectId('67e06dbcb56438ac8eefc629'), ObjectId('67e06dbcb56438ac8eefc62a'), ObjectId('67e06dbcb56438ac8eefc62b'), ObjectId('67e06dbcb56438ac8eefc62c'), ObjectId('67e06dbcb56438ac8eefc62d'), ObjectId('67e06dbcb56438ac8eefc62e'), ObjectId('67e06dbcb56438ac8eefc62f'), ObjectId('67e06dbcb56438ac8eefc630'), ObjectId('67e06dbcb56438ac8eefc631'), ObjectId('67e06dbcb56438ac8eefc632'), ObjectId('67e06dbcb56438ac8eefc633'), ObjectId('67e06dbcb56438ac8eefc634'), ObjectId('67e06dbcb56438ac8eefc635'), ObjectId('67e06dbcb56438ac8eefc636'), ObjectId('67e06dbcb56438ac8eefc637'), ObjectId('67e06dbcb56438ac8eefc638'), ObjectId('67e06dbcb56438ac8eefc639'), ObjectId('67e06dbcb56438ac8eefc63a'), ObjectId('67e06dbcb56438ac8eefc63b'), ObjectId('67e06dbcb56438ac8eefc63c'), ObjectId('67e06dbcb56438ac8eefc63d'), ObjectId('67e06dbcb56438ac8eefc63e'), ObjectId('67e06dbcb56438ac8eefc63f'), ObjectId('67e06dbcb56438ac8eefc640'), ObjectId('67e06dbcb56438ac8eefc641'), ObjectId('67e06dbcb56438ac8eefc642'), ObjectId('67e06dbcb56438ac8eefc643'), ObjectId('67e06dbcb56438ac8eefc644'), ObjectId('67e06dbcb56438ac8eefc645'), ObjectId('67e06dbcb56438ac8eefc646'), ObjectId('67e06dbcb56438ac8eefc647'), ObjectId('67e06dbcb56438ac8eefc648'), ObjectId('67e06dbcb56438ac8eefc649'), ObjectId('67e06dbcb56438ac8eefc64a'), ObjectId('67e06dbcb56438ac8eefc64b'), ObjectId('67e06dbcb56438ac8eefc64c'), ObjectId('67e06dbcb56438ac8eefc64d'), ObjectId('67e06dbcb56438ac8eefc64e'), ObjectId('67e06dbcb56438ac8eefc64f'), ObjectId('67e06dbcb56438ac8eefc650'), ObjectId('67e06dbcb56438ac8eefc651'), ObjectId('67e06dbcb56438ac8eefc652'), ObjectId('67e06dbcb56438ac8eefc653'), ObjectId('67e06dbcb56438ac8eefc654'), ObjectId('67e06dbcb56438ac8eefc655'), ObjectId('67e06dbcb56438ac8eefc656'), ObjectId('67e06dbcb56438ac8eefc657'), ObjectId('67e06dbcb56438ac8eefc658'), ObjectId('67e06dbcb56438ac8eefc659'), ObjectId('67e06dbcb56438ac8eefc65a'), ObjectId('67e06dbcb56438ac8eefc65b'), ObjectId('67e06dbcb56438ac8eefc65c'), ObjectId('67e06dbcb56438ac8eefc65d'), ObjectId('67e06dbcb56438ac8eefc65e'), ObjectId('67e06dbcb56438ac8eefc65f'), ObjectId('67e06dbcb56438ac8eefc660'), ObjectId('67e06dbcb56438ac8eefc661'), ObjectId('67e06dbcb56438ac8eefc662'), ObjectId('67e06dbcb56438ac8eefc663'), ObjectId('67e06dbcb56438ac8eefc664'), ObjectId('67e06dbcb56438ac8eefc665'), ObjectId('67e06dbcb56438ac8eefc666'), ObjectId('67e06dbcb56438ac8eefc667'), ObjectId('67e06dbcb56438ac8eefc668'), ObjectId('67e06dbcb56438ac8eefc669'), ObjectId('67e06dbcb56438ac8eefc66a'), ObjectId('67e06dbcb56438ac8eefc66b'), ObjectId('67e06dbcb56438ac8eefc66c'), ObjectId('67e06dbcb56438ac8eefc66d'), ObjectId('67e06dbcb56438ac8eefc66e'), ObjectId('67e06dbcb56438ac8eefc66f'), ObjectId('67e06dbcb56438ac8eefc670'), ObjectId('67e06dbcb56438ac8eefc671'), ObjectId('67e06dbcb56438ac8eefc672'), ObjectId('67e06dbcb56438ac8eefc673'), ObjectId('67e06dbcb56438ac8eefc674'), ObjectId('67e06dbcb56438ac8eefc675'), ObjectId('67e06dbcb56438ac8eefc676'), ObjectId('67e06dbcb56438ac8eefc677'), ObjectId('67e06dbcb56438ac8eefc678'), ObjectId('67e06dbcb56438ac8eefc679'), ObjectId('67e06dbcb56438ac8eefc67a'), ObjectId('67e06dbcb56438ac8eefc67b'), ObjectId('67e06dbcb56438ac8eefc67c'), ObjectId('67e06dbcb56438ac8eefc67d'), ObjectId('67e06dbcb56438ac8eefc67e'), ObjectId('67e06dbcb56438ac8eefc67f'), ObjectId('67e06dbcb56438ac8eefc680'), ObjectId('67e06dbcb56438ac8eefc681'), ObjectId('67e06dbcb56438ac8eefc682'), ObjectId('67e06dbcb56438ac8eefc683'), ObjectId('67e06dbcb56438ac8eefc684'), ObjectId('67e06dbcb56438ac8eefc685'), ObjectId('67e06dbcb56438ac8eefc686'), ObjectId('67e06dbcb56438ac8eefc687'), ObjectId('67e06dbcb56438ac8eefc688'), ObjectId('67e06dbcb56438ac8eefc689'), ObjectId('67e06dbcb56438ac8eefc68a'), ObjectId('67e06dbcb56438ac8eefc68b'), ObjectId('67e06dbcb56438ac8eefc68c'), ObjectId('67e06dbcb56438ac8eefc68d'), ObjectId('67e06dbcb56438ac8eefc68e'), ObjectId('67e06dbcb56438ac8eefc68f'), ObjectId('67e06dbcb56438ac8eefc690'), ObjectId('67e06dbcb56438ac8eefc691'), ObjectId('67e06dbcb56438ac8eefc692'), ObjectId('67e06dbcb56438ac8eefc693'), ObjectId('67e06dbcb56438ac8eefc694'), ObjectId('67e06dbcb56438ac8eefc695'), ObjectId('67e06dbcb56438ac8eefc696'), ObjectId('67e06dbcb56438ac8eefc697'), ObjectId('67e06dbcb56438ac8eefc698'), ObjectId('67e06dbcb56438ac8eefc699'), ObjectId('67e06dbcb56438ac8eefc69a'), ObjectId('67e06dbcb56438ac8eefc69b'), ObjectId('67e06dbcb56438ac8eefc69c'), ObjectId('67e06dbcb56438ac8eefc69d'), ObjectId('67e06dbcb56438ac8eefc69e'), ObjectId('67e06dbcb56438ac8eefc69f'), ObjectId('67e06dbcb56438ac8eefc6a0'), ObjectId('67e06dbcb56438ac8eefc6a1'), ObjectId('67e06dbcb56438ac8eefc6a2'), ObjectId('67e06dbcb56438ac8eefc6a3'), ObjectId('67e06dbcb56438ac8eefc6a4'), ObjectId('67e06dbcb56438ac8eefc6a5'), ObjectId('67e06dbcb56438ac8eefc6a6'), ObjectId('67e06dbcb56438ac8eefc6a7'), ObjectId('67e06dbcb56438ac8eefc6a8'), ObjectId('67e06dbcb56438ac8eefc6a9'), ObjectId('67e06dbcb56438ac8eefc6aa'), ObjectId('67e06dbcb56438ac8eefc6ab'), ObjectId('67e06dbcb56438ac8eefc6ac'), ObjectId('67e06dbcb56438ac8eefc6ad'), ObjectId('67e06dbcb56438ac8eefc6ae'), ObjectId('67e06dbcb56438ac8eefc6af'), ObjectId('67e06dbcb56438ac8eefc6b0'), ObjectId('67e06dbcb56438ac8eefc6b1'), ObjectId('67e06dbcb56438ac8eefc6b2'), ObjectId('67e06dbcb56438ac8eefc6b3'), ObjectId('67e06dbcb56438ac8eefc6b4'), ObjectId('67e06dbcb56438ac8eefc6b5'), ObjectId('67e06dbcb56438ac8eefc6b6'), ObjectId('67e06dbcb56438ac8eefc6b7'), ObjectId('67e06dbcb56438ac8eefc6b8'), ObjectId('67e06dbcb56438ac8eefc6b9'), ObjectId('67e06dbcb56438ac8eefc6ba'), ObjectId('67e06dbcb56438ac8eefc6bb'), ObjectId('67e06dbcb56438ac8eefc6bc'), ObjectId('67e06dbcb56438ac8eefc6bd'), ObjectId('67e06dbcb56438ac8eefc6be'), ObjectId('67e06dbcb56438ac8eefc6bf'), ObjectId('67e06dbcb56438ac8eefc6c0'), ObjectId('67e06dbcb56438ac8eefc6c1'), ObjectId('67e06dbcb56438ac8eefc6c2'), ObjectId('67e06dbcb56438ac8eefc6c3'), ObjectId('67e06dbcb56438ac8eefc6c4'), ObjectId('67e06dbcb56438ac8eefc6c5'), ObjectId('67e06dbcb56438ac8eefc6c6'), ObjectId('67e06dbcb56438ac8eefc6c7'), ObjectId('67e06dbcb56438ac8eefc6c8'), ObjectId('67e06dbcb56438ac8eefc6c9'), ObjectId('67e06dbcb56438ac8eefc6ca'), ObjectId('67e06dbcb56438ac8eefc6cb'), ObjectId('67e06dbcb56438ac8eefc6cc'), ObjectId('67e06dbcb56438ac8eefc6cd'), ObjectId('67e06dbcb56438ac8eefc6ce'), ObjectId('67e06dbcb56438ac8eefc6cf'), ObjectId('67e06dbcb56438ac8eefc6d0'), ObjectId('67e06dbcb56438ac8eefc6d1'), ObjectId('67e06dbcb56438ac8eefc6d2'), ObjectId('67e06dbcb56438ac8eefc6d3'), ObjectId('67e06dbcb56438ac8eefc6d4'), ObjectId('67e06dbcb56438ac8eefc6d5'), ObjectId('67e06dbcb56438ac8eefc6d6'), ObjectId('67e06dbcb56438ac8eefc6d7'), ObjectId('67e06dbcb56438ac8eefc6d8'), ObjectId('67e06dbcb56438ac8eefc6d9'), ObjectId('67e06dbcb56438ac8eefc6da'), ObjectId('67e06dbcb56438ac8eefc6db'), ObjectId('67e06dbcb56438ac8eefc6dc'), ObjectId('67e06dbcb56438ac8eefc6dd'), ObjectId('67e06dbcb56438ac8eefc6de'), ObjectId('67e06dbcb56438ac8eefc6df'), ObjectId('67e06dbcb56438ac8eefc6e0'), ObjectId('67e06dbcb56438ac8eefc6e1'), ObjectId('67e06dbcb56438ac8eefc6e2'), ObjectId('67e06dbcb56438ac8eefc6e3'), ObjectId('67e06dbcb56438ac8eefc6e4'), ObjectId('67e06dbcb56438ac8eefc6e5'), ObjectId('67e06dbcb56438ac8eefc6e6'), ObjectId('67e06dbcb56438ac8eefc6e7'), ObjectId('67e06dbcb56438ac8eefc6e8'), ObjectId('67e06dbcb56438ac8eefc6e9'), ObjectId('67e06dbcb56438ac8eefc6ea'), ObjectId('67e06dbcb56438ac8eefc6eb'), ObjectId('67e06dbcb56438ac8eefc6ec'), ObjectId('67e06dbcb56438ac8eefc6ed'), ObjectId('67e06dbcb56438ac8eefc6ee'), ObjectId('67e06dbcb56438ac8eefc6ef'), ObjectId('67e06dbcb56438ac8eefc6f0'), ObjectId('67e06dbcb56438ac8eefc6f1'), ObjectId('67e06dbcb56438ac8eefc6f2'), ObjectId('67e06dbcb56438ac8eefc6f3'), ObjectId('67e06dbcb56438ac8eefc6f4'), ObjectId('67e06dbcb56438ac8eefc6f5'), ObjectId('67e06dbcb56438ac8eefc6f6'), ObjectId('67e06dbcb56438ac8eefc6f7'), ObjectId('67e06dbcb56438ac8eefc6f8'), ObjectId('67e06dbcb56438ac8eefc6f9'), ObjectId('67e06dbcb56438ac8eefc6fa'), ObjectId('67e06dbcb56438ac8eefc6fb'), ObjectId('67e06dbcb56438ac8eefc6fc'), ObjectId('67e06dbcb56438ac8eefc6fd'), ObjectId('67e06dbcb56438ac8eefc6fe'), ObjectId('67e06dbcb56438ac8eefc6ff'), ObjectId('67e06dbcb56438ac8eefc700'), ObjectId('67e06dbcb56438ac8eefc701'), ObjectId('67e06dbcb56438ac8eefc702'), ObjectId('67e06dbcb56438ac8eefc703'), ObjectId('67e06dbcb56438ac8eefc704'), ObjectId('67e06dbcb56438ac8eefc705'), ObjectId('67e06dbcb56438ac8eefc706'), ObjectId('67e06dbcb56438ac8eefc707'), ObjectId('67e06dbcb56438ac8eefc708'), ObjectId('67e06dbcb56438ac8eefc709'), ObjectId('67e06dbcb56438ac8eefc70a'), ObjectId('67e06dbcb56438ac8eefc70b'), ObjectId('67e06dbcb56438ac8eefc70c'), ObjectId('67e06dbcb56438ac8eefc70d'), ObjectId('67e06dbcb56438ac8eefc70e'), ObjectId('67e06dbcb56438ac8eefc70f'), ObjectId('67e06dbcb56438ac8eefc710'), ObjectId('67e06dbcb56438ac8eefc711'), ObjectId('67e06dbcb56438ac8eefc712'), ObjectId('67e06dbcb56438ac8eefc713'), ObjectId('67e06dbcb56438ac8eefc714'), ObjectId('67e06dbcb56438ac8eefc715'), ObjectId('67e06dbcb56438ac8eefc716'), ObjectId('67e06dbcb56438ac8eefc717'), ObjectId('67e06dbcb56438ac8eefc718'), ObjectId('67e06dbcb56438ac8eefc719'), ObjectId('67e06dbcb56438ac8eefc71a'), ObjectId('67e06dbcb56438ac8eefc71b'), ObjectId('67e06dbcb56438ac8eefc71c'), ObjectId('67e06dbcb56438ac8eefc71d'), ObjectId('67e06dbcb56438ac8eefc71e'), ObjectId('67e06dbcb56438ac8eefc71f'), ObjectId('67e06dbcb56438ac8eefc720'), ObjectId('67e06dbcb56438ac8eefc721'), ObjectId('67e06dbcb56438ac8eefc722'), ObjectId('67e06dbcb56438ac8eefc723'), ObjectId('67e06dbcb56438ac8eefc724'), ObjectId('67e06dbcb56438ac8eefc725'), ObjectId('67e06dbcb56438ac8eefc726'), ObjectId('67e06dbcb56438ac8eefc727'), ObjectId('67e06dbcb56438ac8eefc728'), ObjectId('67e06dbcb56438ac8eefc729'), ObjectId('67e06dbcb56438ac8eefc72a'), ObjectId('67e06dbcb56438ac8eefc72b'), ObjectId('67e06dbcb56438ac8eefc72c'), ObjectId('67e06dbcb56438ac8eefc72d'), ObjectId('67e06dbcb56438ac8eefc72e'), ObjectId('67e06dbcb56438ac8eefc72f'), ObjectId('67e06dbcb56438ac8eefc730'), ObjectId('67e06dbcb56438ac8eefc731'), ObjectId('67e06dbcb56438ac8eefc732'), ObjectId('67e06dbcb56438ac8eefc733'), ObjectId('67e06dbcb56438ac8eefc734'), ObjectId('67e06dbcb56438ac8eefc735'), ObjectId('67e06dbcb56438ac8eefc736'), ObjectId('67e06dbcb56438ac8eefc737'), ObjectId('67e06dbcb56438ac8eefc738'), ObjectId('67e06dbcb56438ac8eefc739'), ObjectId('67e06dbcb56438ac8eefc73a'), ObjectId('67e06dbcb56438ac8eefc73b'), ObjectId('67e06dbcb56438ac8eefc73c'), ObjectId('67e06dbcb56438ac8eefc73d'), ObjectId('67e06dbcb56438ac8eefc73e'), ObjectId('67e06dbcb56438ac8eefc73f'), ObjectId('67e06dbcb56438ac8eefc740'), ObjectId('67e06dbcb56438ac8eefc741'), ObjectId('67e06dbcb56438ac8eefc742'), ObjectId('67e06dbcb56438ac8eefc743'), ObjectId('67e06dbcb56438ac8eefc744'), ObjectId('67e06dbcb56438ac8eefc745'), ObjectId('67e06dbcb56438ac8eefc746'), ObjectId('67e06dbcb56438ac8eefc747'), ObjectId('67e06dbcb56438ac8eefc748'), ObjectId('67e06dbcb56438ac8eefc749'), ObjectId('67e06dbcb56438ac8eefc74a'), ObjectId('67e06dbcb56438ac8eefc74b'), ObjectId('67e06dbcb56438ac8eefc74c'), ObjectId('67e06dbcb56438ac8eefc74d'), ObjectId('67e06dbcb56438ac8eefc74e'), ObjectId('67e06dbcb56438ac8eefc74f'), ObjectId('67e06dbcb56438ac8eefc750'), ObjectId('67e06dbcb56438ac8eefc751'), ObjectId('67e06dbcb56438ac8eefc752'), ObjectId('67e06dbcb56438ac8eefc753'), ObjectId('67e06dbcb56438ac8eefc754'), ObjectId('67e06dbcb56438ac8eefc755'), ObjectId('67e06dbcb56438ac8eefc756'), ObjectId('67e06dbcb56438ac8eefc757'), ObjectId('67e06dbcb56438ac8eefc758'), ObjectId('67e06dbcb56438ac8eefc759'), ObjectId('67e06dbcb56438ac8eefc75a'), ObjectId('67e06dbcb56438ac8eefc75b'), ObjectId('67e06dbcb56438ac8eefc75c'), ObjectId('67e06dbcb56438ac8eefc75d'), ObjectId('67e06dbcb56438ac8eefc75e'), ObjectId('67e06dbcb56438ac8eefc75f'), ObjectId('67e06dbcb56438ac8eefc760'), ObjectId('67e06dbcb56438ac8eefc761'), ObjectId('67e06dbcb56438ac8eefc762'), ObjectId('67e06dbcb56438ac8eefc763'), ObjectId('67e06dbcb56438ac8eefc764'), ObjectId('67e06dbcb56438ac8eefc765'), ObjectId('67e06dbcb56438ac8eefc766'), ObjectId('67e06dbcb56438ac8eefc767'), ObjectId('67e06dbcb56438ac8eefc768'), ObjectId('67e06dbcb56438ac8eefc769'), ObjectId('67e06dbcb56438ac8eefc76a'), ObjectId('67e06dbcb56438ac8eefc76b'), ObjectId('67e06dbcb56438ac8eefc76c'), ObjectId('67e06dbcb56438ac8eefc76d'), ObjectId('67e06dbcb56438ac8eefc76e'), ObjectId('67e06dbcb56438ac8eefc76f'), ObjectId('67e06dbcb56438ac8eefc770'), ObjectId('67e06dbcb56438ac8eefc771'), ObjectId('67e06dbcb56438ac8eefc772'), ObjectId('67e06dbcb56438ac8eefc773'), ObjectId('67e06dbcb56438ac8eefc774'), ObjectId('67e06dbcb56438ac8eefc775'), ObjectId('67e06dbcb56438ac8eefc776'), ObjectId('67e06dbcb56438ac8eefc777'), ObjectId('67e06dbcb56438ac8eefc778'), ObjectId('67e06dbcb56438ac8eefc779'), ObjectId('67e06dbcb56438ac8eefc77a'), ObjectId('67e06dbcb56438ac8eefc77b'), ObjectId('67e06dbcb56438ac8eefc77c'), ObjectId('67e06dbcb56438ac8eefc77d'), ObjectId('67e06dbcb56438ac8eefc77e'), ObjectId('67e06dbcb56438ac8eefc77f'), ObjectId('67e06dbcb56438ac8eefc780'), ObjectId('67e06dbcb56438ac8eefc781'), ObjectId('67e06dbcb56438ac8eefc782'), ObjectId('67e06dbcb56438ac8eefc783'), ObjectId('67e06dbcb56438ac8eefc784'), ObjectId('67e06dbcb56438ac8eefc785'), ObjectId('67e06dbcb56438ac8eefc786'), ObjectId('67e06dbcb56438ac8eefc787'), ObjectId('67e06dbcb56438ac8eefc788'), ObjectId('67e06dbcb56438ac8eefc789'), ObjectId('67e06dbcb56438ac8eefc78a'), ObjectId('67e06dbcb56438ac8eefc78b'), ObjectId('67e06dbcb56438ac8eefc78c'), ObjectId('67e06dbcb56438ac8eefc78d'), ObjectId('67e06dbcb56438ac8eefc78e'), ObjectId('67e06dbcb56438ac8eefc78f'), ObjectId('67e06dbcb56438ac8eefc790'), ObjectId('67e06dbcb56438ac8eefc791'), ObjectId('67e06dbcb56438ac8eefc792'), ObjectId('67e06dbcb56438ac8eefc793'), ObjectId('67e06dbcb56438ac8eefc794'), ObjectId('67e06dbcb56438ac8eefc795'), ObjectId('67e06dbcb56438ac8eefc796'), ObjectId('67e06dbcb56438ac8eefc797'), ObjectId('67e06dbcb56438ac8eefc798'), ObjectId('67e06dbcb56438ac8eefc799'), ObjectId('67e06dbcb56438ac8eefc79a')], acknowledged=True)"
      ]
     },
     "execution_count": 5,
     "metadata": {},
     "output_type": "execute_result"
    }
   ],
   "source": [
    "insert_result"
   ]
  },
  {
   "cell_type": "code",
   "execution_count": null,
   "metadata": {},
   "outputs": [],
   "source": []
  },
  {
   "cell_type": "code",
   "execution_count": null,
   "metadata": {},
   "outputs": [],
   "source": []
  }
 ],
 "metadata": {
  "kernelspec": {
   "display_name": "mlops",
   "language": "python",
   "name": "python3"
  },
  "language_info": {
   "codemirror_mode": {
    "name": "ipython",
    "version": 3
   },
   "file_extension": ".py",
   "mimetype": "text/x-python",
   "name": "python",
   "nbconvert_exporter": "python",
   "pygments_lexer": "ipython3",
   "version": "3.9.21"
  }
 },
 "nbformat": 4,
 "nbformat_minor": 2
}
